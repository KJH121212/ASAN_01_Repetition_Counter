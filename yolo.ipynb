{
 "cells": [
  {
   "cell_type": "code",
   "execution_count": 1,
   "id": "7ef30f74",
   "metadata": {},
   "outputs": [],
   "source": [
    "import sys\n",
    "sys.path.append(\"/workspace/nas203/ds_RehabilitationMedicineData/IDs/Kimjihoo/ASAN_01_Repeatition_Counter\")"
   ]
  },
  {
   "cell_type": "code",
   "execution_count": 4,
   "id": "01f0428f",
   "metadata": {},
   "outputs": [
    {
     "name": "stdout",
     "output_type": "stream",
     "text": [
      "❌ 누락된 필드: keypoints\n"
     ]
    }
   ],
   "source": [
    "# ===============================================================\n",
    "# check_dataset_yaml.py\n",
    "# YOLO 학습 전에 dataset.yml 설정 검증 스크립트\n",
    "# ===============================================================\n",
    "\n",
    "import yaml  # YAML 파일 읽기용\n",
    "from pathlib import Path  # 경로 처리용\n",
    "import os  # 파일 존재 여부 확인용\n",
    "\n",
    "# ---------------------------------------------------------------\n",
    "# 1️⃣ 주요 필드 검사 함수\n",
    "# ---------------------------------------------------------------\n",
    "def check_dataset_yaml(yaml_path: str):\n",
    "    \"\"\"\n",
    "    dataset.yml 구조를 검증하고 각 경로의 존재 여부를 확인합니다.\n",
    "    Args:\n",
    "        yaml_path (str): YOLO 학습용 dataset.yml 파일 경로\n",
    "    \"\"\"\n",
    "    yaml_path = Path(yaml_path)  # Path 객체로 변환\n",
    "\n",
    "    # YAML 파일 존재 여부 확인\n",
    "    if not yaml_path.exists():\n",
    "        print(f\"❌ dataset.yml 파일이 존재하지 않습니다: {yaml_path}\")\n",
    "        return\n",
    "\n",
    "    # YAML 로드\n",
    "    with open(yaml_path, \"r\", encoding=\"utf-8\") as f:\n",
    "        try:\n",
    "            data = yaml.safe_load(f)  # YAML 파싱\n",
    "        except yaml.YAMLError as e:\n",
    "            print(f\"❌ YAML 파싱 오류: {e}\")\n",
    "            return\n",
    "\n",
    "    # 필수 키 존재 여부 확인\n",
    "    required_keys = [\"train\", \"val\", \"keypoints\", \"skeleton\"]\n",
    "    for k in required_keys:\n",
    "        if k not in data:\n",
    "            print(f\"❌ 누락된 필드: {k}\")\n",
    "            return\n",
    "\n",
    "    # -----------------------------------------------------------\n",
    "    # 2️⃣ 경로 유효성 검사\n",
    "    # -----------------------------------------------------------\n",
    "    for split in [\"train\", \"val\"]:\n",
    "        p = Path(data[split])\n",
    "        if not p.exists():\n",
    "            print(f\"⚠️ {split} 경로가 존재하지 않습니다: {p}\")\n",
    "        else:\n",
    "            num_txt = len(list(p.rglob(\"*.txt\")))\n",
    "            print(f\"✅ {split}: {num_txt}개의 라벨 파일 존재\")\n",
    "\n",
    "    # -----------------------------------------------------------\n",
    "    # 3️⃣ keypoints, skeleton 필드 검사\n",
    "    # -----------------------------------------------------------\n",
    "    keypoints = data[\"keypoints\"]\n",
    "    skeleton = data[\"skeleton\"]\n",
    "\n",
    "    if not isinstance(keypoints, list) or not all(isinstance(k, str) for k in keypoints):\n",
    "        print(\"❌ keypoints 필드는 문자열 리스트 형식이어야 합니다.\")\n",
    "        return\n",
    "    if not isinstance(skeleton, list) or not all(isinstance(s, list) for s in skeleton):\n",
    "        print(\"❌ skeleton 필드는 리스트의 리스트 형식이어야 합니다.\")\n",
    "        return\n",
    "\n",
    "    print(f\"✅ keypoints 개수: {len(keypoints)}개\")\n",
    "    print(f\"✅ skeleton 연결선 개수: {len(skeleton)}개\")\n",
    "\n",
    "    # -----------------------------------------------------------\n",
    "    # 4️⃣ 추가 검사 (옵션)\n",
    "    # -----------------------------------------------------------\n",
    "    if \"nc\" in data:\n",
    "        print(f\"✅ 클래스 수 (nc): {data['nc']}\")\n",
    "    if \"names\" in data:\n",
    "        print(f\"✅ 클래스 이름: {data['names']}\")\n",
    "    if \"pose\" in data:\n",
    "        print(f\"✅ pose 모델 설정 존재: {data['pose']}\")\n",
    "\n",
    "    print(\"🎯 dataset.yml 검증 완료 ✅\")\n",
    "\n",
    "\n",
    "# ---------------------------------------------------------------\n",
    "# 5️⃣ 실행 예시\n",
    "# ---------------------------------------------------------------\n",
    "if __name__ == \"__main__\":\n",
    "    yml_path = \"/workspace/nas203/ds_RehabilitationMedicineData/IDs/Kimjihoo/ASAN_01_Repeatition_Counter/data/dataset_validated.yml\"\n",
    "    check_dataset_yaml(yml_path)\n"
   ]
  },
  {
   "cell_type": "code",
   "execution_count": 2,
   "id": "d542e6b9",
   "metadata": {},
   "outputs": [
    {
     "name": "stdout",
     "output_type": "stream",
     "text": [
      "[INFO] 대상 데이터 96개 선택됨 (필터: ('AI_dataset/N02',))\n",
      "\n",
      "[97/96] 🎬 diagonal__biceps_curl\n"
     ]
    },
    {
     "name": "stderr",
     "output_type": "stream",
     "text": [
      "diagonal__biceps_curl: 100% 344/344 [00:05<00:00, 67.45frame/s]\n"
     ]
    },
    {
     "name": "stdout",
     "output_type": "stream",
     "text": [
      "✅ Skeleton overlay 완료 → /workspace/nas203/ds_RehabilitationMedicineData/IDs/Kimjihoo/3_project_HCCmove/data/3_MP4/AI_dataset/N02/N02_Treatment/diagonal__biceps_curl.mp4\n",
      "\n",
      "[98/96] 🎬 diagonal__hip_extension\n"
     ]
    },
    {
     "name": "stderr",
     "output_type": "stream",
     "text": [
      "diagonal__hip_extension: 100% 465/465 [00:09<00:00, 48.89frame/s]\n"
     ]
    },
    {
     "name": "stdout",
     "output_type": "stream",
     "text": [
      "✅ Skeleton overlay 완료 → /workspace/nas203/ds_RehabilitationMedicineData/IDs/Kimjihoo/3_project_HCCmove/data/3_MP4/AI_dataset/N02/N02_Treatment/diagonal__hip_extension.mp4\n",
      "\n",
      "[99/96] 🎬 diagonal__hip_flexion_extension\n"
     ]
    },
    {
     "name": "stderr",
     "output_type": "stream",
     "text": [
      "diagonal__hip_flexion_extension: 100% 348/348 [00:06<00:00, 57.44frame/s]\n"
     ]
    },
    {
     "name": "stdout",
     "output_type": "stream",
     "text": [
      "✅ Skeleton overlay 완료 → /workspace/nas203/ds_RehabilitationMedicineData/IDs/Kimjihoo/3_project_HCCmove/data/3_MP4/AI_dataset/N02/N02_Treatment/diagonal__hip_flexion_extension.mp4\n",
      "\n",
      "[100/96] 🎬 diagonal__hip_flexion_extension_bobath_table\n"
     ]
    },
    {
     "name": "stderr",
     "output_type": "stream",
     "text": [
      "diagonal__hip_flexion_extension_bobath_table: 100% 347/347 [00:07<00:00, 45.22frame/s]\n"
     ]
    },
    {
     "name": "stdout",
     "output_type": "stream",
     "text": [
      "✅ Skeleton overlay 완료 → /workspace/nas203/ds_RehabilitationMedicineData/IDs/Kimjihoo/3_project_HCCmove/data/3_MP4/AI_dataset/N02/N02_Treatment/diagonal__hip_flexion_extension_bobath_table.mp4\n",
      "\n",
      "[101/96] 🎬 diagonal__hip_flexion_extension_chair\n"
     ]
    },
    {
     "name": "stderr",
     "output_type": "stream",
     "text": [
      "diagonal__hip_flexion_extension_chair: 100% 351/351 [00:07<00:00, 47.52frame/s]\n"
     ]
    },
    {
     "name": "stdout",
     "output_type": "stream",
     "text": [
      "✅ Skeleton overlay 완료 → /workspace/nas203/ds_RehabilitationMedicineData/IDs/Kimjihoo/3_project_HCCmove/data/3_MP4/AI_dataset/N02/N02_Treatment/diagonal__hip_flexion_extension_chair.mp4\n",
      "\n",
      "[102/96] 🎬 diagonal__hip_flexion_extension_wheelchair\n"
     ]
    },
    {
     "name": "stderr",
     "output_type": "stream",
     "text": [
      "diagonal__hip_flexion_extension_wheelchair: 100% 364/364 [00:11<00:00, 32.94frame/s]\n"
     ]
    },
    {
     "name": "stdout",
     "output_type": "stream",
     "text": [
      "✅ Skeleton overlay 완료 → /workspace/nas203/ds_RehabilitationMedicineData/IDs/Kimjihoo/3_project_HCCmove/data/3_MP4/AI_dataset/N02/N02_Treatment/diagonal__hip_flexion_extension_wheelchair.mp4\n",
      "\n",
      "[103/96] 🎬 diagonal__knee_extension_chair\n"
     ]
    },
    {
     "name": "stderr",
     "output_type": "stream",
     "text": [
      "diagonal__knee_extension_chair: 100% 346/346 [00:11<00:00, 30.51frame/s]\n"
     ]
    },
    {
     "name": "stdout",
     "output_type": "stream",
     "text": [
      "✅ Skeleton overlay 완료 → /workspace/nas203/ds_RehabilitationMedicineData/IDs/Kimjihoo/3_project_HCCmove/data/3_MP4/AI_dataset/N02/N02_Treatment/diagonal__knee_extension_chair.mp4\n",
      "\n",
      "[104/96] 🎬 diagonal__knee_extension_wheelchair\n"
     ]
    },
    {
     "name": "stderr",
     "output_type": "stream",
     "text": [
      "diagonal__knee_extension_wheelchair: 100% 343/343 [00:10<00:00, 31.80frame/s]\n"
     ]
    },
    {
     "name": "stdout",
     "output_type": "stream",
     "text": [
      "✅ Skeleton overlay 완료 → /workspace/nas203/ds_RehabilitationMedicineData/IDs/Kimjihoo/3_project_HCCmove/data/3_MP4/AI_dataset/N02/N02_Treatment/diagonal__knee_extension_wheelchair.mp4\n",
      "\n",
      "[105/96] 🎬 diagonal__knee_flexion\n"
     ]
    },
    {
     "name": "stderr",
     "output_type": "stream",
     "text": [
      "diagonal__knee_flexion: 100% 344/344 [00:12<00:00, 28.30frame/s]\n"
     ]
    },
    {
     "name": "stdout",
     "output_type": "stream",
     "text": [
      "✅ Skeleton overlay 완료 → /workspace/nas203/ds_RehabilitationMedicineData/IDs/Kimjihoo/3_project_HCCmove/data/3_MP4/AI_dataset/N02/N02_Treatment/diagonal__knee_flexion.mp4\n",
      "\n",
      "[106/96] 🎬 diagonal__slr_bobath_table\n"
     ]
    },
    {
     "name": "stderr",
     "output_type": "stream",
     "text": [
      "diagonal__slr_bobath_table: 100% 361/361 [00:09<00:00, 36.78frame/s]\n"
     ]
    },
    {
     "name": "stdout",
     "output_type": "stream",
     "text": [
      "✅ Skeleton overlay 완료 → /workspace/nas203/ds_RehabilitationMedicineData/IDs/Kimjihoo/3_project_HCCmove/data/3_MP4/AI_dataset/N02/N02_Treatment/diagonal__slr_bobath_table.mp4\n",
      "\n",
      "[107/96] 🎬 frontal__biceps_curl\n"
     ]
    },
    {
     "name": "stderr",
     "output_type": "stream",
     "text": [
      "frontal__biceps_curl: 100% 379/379 [00:12<00:00, 29.34frame/s]\n"
     ]
    },
    {
     "name": "stdout",
     "output_type": "stream",
     "text": [
      "✅ Skeleton overlay 완료 → /workspace/nas203/ds_RehabilitationMedicineData/IDs/Kimjihoo/3_project_HCCmove/data/3_MP4/AI_dataset/N02/N02_Treatment/frontal__biceps_curl.mp4\n",
      "\n",
      "[108/96] 🎬 frontal__hip_extension\n"
     ]
    },
    {
     "name": "stderr",
     "output_type": "stream",
     "text": [
      "frontal__hip_extension: 100% 465/465 [00:15<00:00, 29.72frame/s]\n"
     ]
    },
    {
     "name": "stdout",
     "output_type": "stream",
     "text": [
      "✅ Skeleton overlay 완료 → /workspace/nas203/ds_RehabilitationMedicineData/IDs/Kimjihoo/3_project_HCCmove/data/3_MP4/AI_dataset/N02/N02_Treatment/frontal__hip_extension.mp4\n",
      "\n",
      "[109/96] 🎬 frontal__hip_flexion_extension\n"
     ]
    },
    {
     "name": "stderr",
     "output_type": "stream",
     "text": [
      "frontal__hip_flexion_extension: 100% 360/360 [00:12<00:00, 29.08frame/s]\n"
     ]
    },
    {
     "name": "stdout",
     "output_type": "stream",
     "text": [
      "✅ Skeleton overlay 완료 → /workspace/nas203/ds_RehabilitationMedicineData/IDs/Kimjihoo/3_project_HCCmove/data/3_MP4/AI_dataset/N02/N02_Treatment/frontal__hip_flexion_extension.mp4\n",
      "\n",
      "[110/96] 🎬 frontal__hip_flexion_extension_bobath_table\n"
     ]
    },
    {
     "name": "stderr",
     "output_type": "stream",
     "text": [
      "frontal__hip_flexion_extension_bobath_table: 100% 697/697 [00:22<00:00, 31.10frame/s]\n"
     ]
    },
    {
     "name": "stdout",
     "output_type": "stream",
     "text": [
      "✅ Skeleton overlay 완료 → /workspace/nas203/ds_RehabilitationMedicineData/IDs/Kimjihoo/3_project_HCCmove/data/3_MP4/AI_dataset/N02/N02_Treatment/frontal__hip_flexion_extension_bobath_table.mp4\n",
      "\n",
      "[111/96] 🎬 frontal__hip_flexion_extension_chair\n"
     ]
    },
    {
     "name": "stderr",
     "output_type": "stream",
     "text": [
      "frontal__hip_flexion_extension_chair: 100% 349/349 [00:10<00:00, 33.82frame/s]\n"
     ]
    },
    {
     "name": "stdout",
     "output_type": "stream",
     "text": [
      "✅ Skeleton overlay 완료 → /workspace/nas203/ds_RehabilitationMedicineData/IDs/Kimjihoo/3_project_HCCmove/data/3_MP4/AI_dataset/N02/N02_Treatment/frontal__hip_flexion_extension_chair.mp4\n",
      "\n",
      "[112/96] 🎬 frontal__hip_flexion_extension_wheelchair\n"
     ]
    },
    {
     "name": "stderr",
     "output_type": "stream",
     "text": [
      "frontal__hip_flexion_extension_wheelchair: 100% 352/352 [00:11<00:00, 31.39frame/s]\n"
     ]
    },
    {
     "name": "stdout",
     "output_type": "stream",
     "text": [
      "✅ Skeleton overlay 완료 → /workspace/nas203/ds_RehabilitationMedicineData/IDs/Kimjihoo/3_project_HCCmove/data/3_MP4/AI_dataset/N02/N02_Treatment/frontal__hip_flexion_extension_wheelchair.mp4\n",
      "\n",
      "[113/96] 🎬 frontal__knee_extension_chair\n"
     ]
    },
    {
     "name": "stderr",
     "output_type": "stream",
     "text": [
      "frontal__knee_extension_chair: 100% 362/362 [00:10<00:00, 32.94frame/s]\n"
     ]
    },
    {
     "name": "stdout",
     "output_type": "stream",
     "text": [
      "✅ Skeleton overlay 완료 → /workspace/nas203/ds_RehabilitationMedicineData/IDs/Kimjihoo/3_project_HCCmove/data/3_MP4/AI_dataset/N02/N02_Treatment/frontal__knee_extension_chair.mp4\n",
      "\n",
      "[114/96] 🎬 frontal__knee_extension_wheelchair\n"
     ]
    },
    {
     "name": "stderr",
     "output_type": "stream",
     "text": [
      "frontal__knee_extension_wheelchair: 100% 341/341 [00:09<00:00, 34.61frame/s]\n"
     ]
    },
    {
     "name": "stdout",
     "output_type": "stream",
     "text": [
      "✅ Skeleton overlay 완료 → /workspace/nas203/ds_RehabilitationMedicineData/IDs/Kimjihoo/3_project_HCCmove/data/3_MP4/AI_dataset/N02/N02_Treatment/frontal__knee_extension_wheelchair.mp4\n",
      "\n",
      "[115/96] 🎬 frontal__knee_flexion\n"
     ]
    },
    {
     "name": "stderr",
     "output_type": "stream",
     "text": [
      "frontal__knee_flexion: 100% 347/347 [00:11<00:00, 30.31frame/s]\n"
     ]
    },
    {
     "name": "stdout",
     "output_type": "stream",
     "text": [
      "✅ Skeleton overlay 완료 → /workspace/nas203/ds_RehabilitationMedicineData/IDs/Kimjihoo/3_project_HCCmove/data/3_MP4/AI_dataset/N02/N02_Treatment/frontal__knee_flexion.mp4\n",
      "\n",
      "[116/96] 🎬 frontal__slr_bobath_table\n"
     ]
    },
    {
     "name": "stderr",
     "output_type": "stream",
     "text": [
      "frontal__slr_bobath_table: 100% 704/704 [00:21<00:00, 32.36frame/s]\n"
     ]
    },
    {
     "name": "stdout",
     "output_type": "stream",
     "text": [
      "✅ Skeleton overlay 완료 → /workspace/nas203/ds_RehabilitationMedicineData/IDs/Kimjihoo/3_project_HCCmove/data/3_MP4/AI_dataset/N02/N02_Treatment/frontal__slr_bobath_table.mp4\n",
      "\n",
      "[117/96] 🎬 lateral__biceps_curl\n"
     ]
    },
    {
     "name": "stderr",
     "output_type": "stream",
     "text": [
      "lateral__biceps_curl: 100% 706/706 [00:24<00:00, 28.31frame/s]\n"
     ]
    },
    {
     "name": "stdout",
     "output_type": "stream",
     "text": [
      "✅ Skeleton overlay 완료 → /workspace/nas203/ds_RehabilitationMedicineData/IDs/Kimjihoo/3_project_HCCmove/data/3_MP4/AI_dataset/N02/N02_Treatment/lateral__biceps_curl.mp4\n",
      "\n",
      "[118/96] 🎬 lateral__hip_extension\n"
     ]
    },
    {
     "name": "stderr",
     "output_type": "stream",
     "text": [
      "lateral__hip_extension: 100% 959/959 [00:31<00:00, 30.09frame/s]\n"
     ]
    },
    {
     "name": "stdout",
     "output_type": "stream",
     "text": [
      "✅ Skeleton overlay 완료 → /workspace/nas203/ds_RehabilitationMedicineData/IDs/Kimjihoo/3_project_HCCmove/data/3_MP4/AI_dataset/N02/N02_Treatment/lateral__hip_extension.mp4\n",
      "\n",
      "[119/96] 🎬 lateral__hip_flexion_extension\n"
     ]
    },
    {
     "name": "stderr",
     "output_type": "stream",
     "text": [
      "lateral__hip_flexion_extension: 100% 727/727 [00:23<00:00, 30.73frame/s]\n"
     ]
    },
    {
     "name": "stdout",
     "output_type": "stream",
     "text": [
      "✅ Skeleton overlay 완료 → /workspace/nas203/ds_RehabilitationMedicineData/IDs/Kimjihoo/3_project_HCCmove/data/3_MP4/AI_dataset/N02/N02_Treatment/lateral__hip_flexion_extension.mp4\n",
      "\n",
      "[120/96] 🎬 lateral__hip_flexion_extension_bobath_table\n"
     ]
    },
    {
     "name": "stderr",
     "output_type": "stream",
     "text": [
      "lateral__hip_flexion_extension_bobath_table: 100% 358/358 [00:11<00:00, 31.70frame/s]\n"
     ]
    },
    {
     "name": "stdout",
     "output_type": "stream",
     "text": [
      "✅ Skeleton overlay 완료 → /workspace/nas203/ds_RehabilitationMedicineData/IDs/Kimjihoo/3_project_HCCmove/data/3_MP4/AI_dataset/N02/N02_Treatment/lateral__hip_flexion_extension_bobath_table.mp4\n",
      "\n",
      "[121/96] 🎬 lateral__hip_flexion_extension_chair\n"
     ]
    },
    {
     "name": "stderr",
     "output_type": "stream",
     "text": [
      "lateral__hip_flexion_extension_chair: 100% 662/662 [00:22<00:00, 29.97frame/s]\n"
     ]
    },
    {
     "name": "stdout",
     "output_type": "stream",
     "text": [
      "✅ Skeleton overlay 완료 → /workspace/nas203/ds_RehabilitationMedicineData/IDs/Kimjihoo/3_project_HCCmove/data/3_MP4/AI_dataset/N02/N02_Treatment/lateral__hip_flexion_extension_chair.mp4\n",
      "\n",
      "[122/96] 🎬 lateral__hip_flexion_extension_wheelchair\n"
     ]
    },
    {
     "name": "stderr",
     "output_type": "stream",
     "text": [
      "lateral__hip_flexion_extension_wheelchair: 100% 706/706 [00:24<00:00, 29.34frame/s]\n"
     ]
    },
    {
     "name": "stdout",
     "output_type": "stream",
     "text": [
      "✅ Skeleton overlay 완료 → /workspace/nas203/ds_RehabilitationMedicineData/IDs/Kimjihoo/3_project_HCCmove/data/3_MP4/AI_dataset/N02/N02_Treatment/lateral__hip_flexion_extension_wheelchair.mp4\n",
      "\n",
      "[123/96] 🎬 lateral__knee_extension_chair\n"
     ]
    },
    {
     "name": "stderr",
     "output_type": "stream",
     "text": [
      "lateral__knee_extension_chair: 100% 627/627 [00:23<00:00, 26.52frame/s]\n"
     ]
    },
    {
     "name": "stdout",
     "output_type": "stream",
     "text": [
      "✅ Skeleton overlay 완료 → /workspace/nas203/ds_RehabilitationMedicineData/IDs/Kimjihoo/3_project_HCCmove/data/3_MP4/AI_dataset/N02/N02_Treatment/lateral__knee_extension_chair.mp4\n",
      "\n",
      "[124/96] 🎬 lateral__knee_extension_wheelchair\n"
     ]
    },
    {
     "name": "stderr",
     "output_type": "stream",
     "text": [
      "lateral__knee_extension_wheelchair: 100% 712/712 [00:22<00:00, 32.26frame/s]\n"
     ]
    },
    {
     "name": "stdout",
     "output_type": "stream",
     "text": [
      "✅ Skeleton overlay 완료 → /workspace/nas203/ds_RehabilitationMedicineData/IDs/Kimjihoo/3_project_HCCmove/data/3_MP4/AI_dataset/N02/N02_Treatment/lateral__knee_extension_wheelchair.mp4\n",
      "\n",
      "[125/96] 🎬 lateral__knee_flexion\n"
     ]
    },
    {
     "name": "stderr",
     "output_type": "stream",
     "text": [
      "lateral__knee_flexion: 100% 814/814 [00:24<00:00, 33.01frame/s]\n"
     ]
    },
    {
     "name": "stdout",
     "output_type": "stream",
     "text": [
      "✅ Skeleton overlay 완료 → /workspace/nas203/ds_RehabilitationMedicineData/IDs/Kimjihoo/3_project_HCCmove/data/3_MP4/AI_dataset/N02/N02_Treatment/lateral__knee_flexion.mp4\n",
      "\n",
      "[126/96] 🎬 lateral__slr_bobath_table\n"
     ]
    },
    {
     "name": "stderr",
     "output_type": "stream",
     "text": [
      "lateral__slr_bobath_table: 100% 353/353 [00:11<00:00, 31.27frame/s]\n"
     ]
    },
    {
     "name": "stdout",
     "output_type": "stream",
     "text": [
      "✅ Skeleton overlay 완료 → /workspace/nas203/ds_RehabilitationMedicineData/IDs/Kimjihoo/3_project_HCCmove/data/3_MP4/AI_dataset/N02/N02_Treatment/lateral__slr_bobath_table.mp4\n",
      "\n",
      "[127/96] 🎬 diagonal__ankle_pumping\n"
     ]
    },
    {
     "name": "stderr",
     "output_type": "stream",
     "text": [
      "diagonal__ankle_pumping: 100% 330/330 [00:11<00:00, 28.63frame/s]\n"
     ]
    },
    {
     "name": "stdout",
     "output_type": "stream",
     "text": [
      "✅ Skeleton overlay 완료 → /workspace/nas203/ds_RehabilitationMedicineData/IDs/Kimjihoo/3_project_HCCmove/data/3_MP4/AI_dataset/N02/N02_Ward/diagonal__ankle_pumping.mp4\n",
      "\n",
      "[128/96] 🎬 diagonal__biceps_curl\n"
     ]
    },
    {
     "name": "stderr",
     "output_type": "stream",
     "text": [
      "diagonal__biceps_curl: 100% 338/338 [00:10<00:00, 30.96frame/s]\n"
     ]
    },
    {
     "name": "stdout",
     "output_type": "stream",
     "text": [
      "✅ Skeleton overlay 완료 → /workspace/nas203/ds_RehabilitationMedicineData/IDs/Kimjihoo/3_project_HCCmove/data/3_MP4/AI_dataset/N02/N02_Ward/diagonal__biceps_curl.mp4\n",
      "\n",
      "[129/96] 🎬 diagonal__biceps_curlbilateral\n"
     ]
    },
    {
     "name": "stderr",
     "output_type": "stream",
     "text": [
      "diagonal__biceps_curlbilateral: 100% 344/344 [00:11<00:00, 29.91frame/s]\n"
     ]
    },
    {
     "name": "stdout",
     "output_type": "stream",
     "text": [
      "✅ Skeleton overlay 완료 → /workspace/nas203/ds_RehabilitationMedicineData/IDs/Kimjihoo/3_project_HCCmove/data/3_MP4/AI_dataset/N02/N02_Ward/diagonal__biceps_curlbilateral.mp4\n",
      "\n",
      "[130/96] 🎬 diagonal__bridge_dynamic\n"
     ]
    },
    {
     "name": "stderr",
     "output_type": "stream",
     "text": [
      "diagonal__bridge_dynamic: 100% 364/364 [00:10<00:00, 35.15frame/s]\n"
     ]
    },
    {
     "name": "stdout",
     "output_type": "stream",
     "text": [
      "✅ Skeleton overlay 완료 → /workspace/nas203/ds_RehabilitationMedicineData/IDs/Kimjihoo/3_project_HCCmove/data/3_MP4/AI_dataset/N02/N02_Ward/diagonal__bridge_dynamic.mp4\n",
      "\n",
      "[131/96] 🎬 diagonal__bridge_static\n"
     ]
    },
    {
     "name": "stderr",
     "output_type": "stream",
     "text": [
      "diagonal__bridge_static: 100% 645/645 [00:19<00:00, 32.60frame/s]\n"
     ]
    },
    {
     "name": "stdout",
     "output_type": "stream",
     "text": [
      "✅ Skeleton overlay 완료 → /workspace/nas203/ds_RehabilitationMedicineData/IDs/Kimjihoo/3_project_HCCmove/data/3_MP4/AI_dataset/N02/N02_Ward/diagonal__bridge_static.mp4\n",
      "\n",
      "[132/96] 🎬 diagonal__chest_press\n"
     ]
    },
    {
     "name": "stderr",
     "output_type": "stream",
     "text": [
      "diagonal__chest_press: 100% 343/343 [00:11<00:00, 30.70frame/s]\n"
     ]
    },
    {
     "name": "stdout",
     "output_type": "stream",
     "text": [
      "✅ Skeleton overlay 완료 → /workspace/nas203/ds_RehabilitationMedicineData/IDs/Kimjihoo/3_project_HCCmove/data/3_MP4/AI_dataset/N02/N02_Ward/diagonal__chest_press.mp4\n",
      "\n",
      "[133/96] 🎬 diagonal__clamshell_sidelying\n"
     ]
    },
    {
     "name": "stderr",
     "output_type": "stream",
     "text": [
      "diagonal__clamshell_sidelying: 100% 343/343 [00:10<00:00, 31.37frame/s]\n"
     ]
    },
    {
     "name": "stdout",
     "output_type": "stream",
     "text": [
      "✅ Skeleton overlay 완료 → /workspace/nas203/ds_RehabilitationMedicineData/IDs/Kimjihoo/3_project_HCCmove/data/3_MP4/AI_dataset/N02/N02_Ward/diagonal__clamshell_sidelying.mp4\n",
      "\n",
      "[134/96] 🎬 diagonal__clamshell_supine\n"
     ]
    },
    {
     "name": "stderr",
     "output_type": "stream",
     "text": [
      "diagonal__clamshell_supine: 100% 343/343 [00:10<00:00, 31.51frame/s]\n"
     ]
    },
    {
     "name": "stdout",
     "output_type": "stream",
     "text": [
      "✅ Skeleton overlay 완료 → /workspace/nas203/ds_RehabilitationMedicineData/IDs/Kimjihoo/3_project_HCCmove/data/3_MP4/AI_dataset/N02/N02_Ward/diagonal__clamshell_supine.mp4\n",
      "\n",
      "[135/96] 🎬 diagonal__hip_abduction\n"
     ]
    },
    {
     "name": "stderr",
     "output_type": "stream",
     "text": [
      "diagonal__hip_abduction: 100% 345/345 [00:11<00:00, 30.34frame/s]\n"
     ]
    },
    {
     "name": "stdout",
     "output_type": "stream",
     "text": [
      "✅ Skeleton overlay 완료 → /workspace/nas203/ds_RehabilitationMedicineData/IDs/Kimjihoo/3_project_HCCmove/data/3_MP4/AI_dataset/N02/N02_Ward/diagonal__hip_abduction.mp4\n",
      "\n",
      "[136/96] 🎬 diagonal__hip_extension\n"
     ]
    },
    {
     "name": "stderr",
     "output_type": "stream",
     "text": [
      "diagonal__hip_extension: 100% 349/349 [00:12<00:00, 28.39frame/s]\n"
     ]
    },
    {
     "name": "stdout",
     "output_type": "stream",
     "text": [
      "✅ Skeleton overlay 완료 → /workspace/nas203/ds_RehabilitationMedicineData/IDs/Kimjihoo/3_project_HCCmove/data/3_MP4/AI_dataset/N02/N02_Ward/diagonal__hip_extension.mp4\n",
      "\n",
      "[137/96] 🎬 diagonal__hip_knee_flexion\n"
     ]
    },
    {
     "name": "stderr",
     "output_type": "stream",
     "text": [
      "diagonal__hip_knee_flexion: 100% 337/337 [00:12<00:00, 26.99frame/s]\n"
     ]
    },
    {
     "name": "stdout",
     "output_type": "stream",
     "text": [
      "✅ Skeleton overlay 완료 → /workspace/nas203/ds_RehabilitationMedicineData/IDs/Kimjihoo/3_project_HCCmove/data/3_MP4/AI_dataset/N02/N02_Ward/diagonal__hip_knee_flexion.mp4\n",
      "\n",
      "[138/96] 🎬 diagonal__knee_flexion\n"
     ]
    },
    {
     "name": "stderr",
     "output_type": "stream",
     "text": [
      "diagonal__knee_flexion: 100% 347/347 [00:10<00:00, 32.76frame/s]\n"
     ]
    },
    {
     "name": "stdout",
     "output_type": "stream",
     "text": [
      "✅ Skeleton overlay 완료 → /workspace/nas203/ds_RehabilitationMedicineData/IDs/Kimjihoo/3_project_HCCmove/data/3_MP4/AI_dataset/N02/N02_Ward/diagonal__knee_flexion.mp4\n",
      "\n",
      "[139/96] 🎬 diagonal__leg_cycle_exercise\n"
     ]
    },
    {
     "name": "stderr",
     "output_type": "stream",
     "text": [
      "diagonal__leg_cycle_exercise: 100% 329/329 [00:10<00:00, 32.26frame/s]\n"
     ]
    },
    {
     "name": "stdout",
     "output_type": "stream",
     "text": [
      "✅ Skeleton overlay 완료 → /workspace/nas203/ds_RehabilitationMedicineData/IDs/Kimjihoo/3_project_HCCmove/data/3_MP4/AI_dataset/N02/N02_Ward/diagonal__leg_cycle_exercise.mp4\n",
      "\n",
      "[140/96] 🎬 diagonal__lumbar_rotation\n"
     ]
    },
    {
     "name": "stderr",
     "output_type": "stream",
     "text": [
      "diagonal__lumbar_rotation: 100% 344/344 [00:10<00:00, 32.33frame/s]\n"
     ]
    },
    {
     "name": "stdout",
     "output_type": "stream",
     "text": [
      "✅ Skeleton overlay 완료 → /workspace/nas203/ds_RehabilitationMedicineData/IDs/Kimjihoo/3_project_HCCmove/data/3_MP4/AI_dataset/N02/N02_Ward/diagonal__lumbar_rotation.mp4\n",
      "\n",
      "[141/96] 🎬 diagonal__one_leg_bridge_dynamic\n"
     ]
    },
    {
     "name": "stderr",
     "output_type": "stream",
     "text": [
      "diagonal__one_leg_bridge_dynamic: 100% 536/536 [00:15<00:00, 34.24frame/s]\n"
     ]
    },
    {
     "name": "stdout",
     "output_type": "stream",
     "text": [
      "✅ Skeleton overlay 완료 → /workspace/nas203/ds_RehabilitationMedicineData/IDs/Kimjihoo/3_project_HCCmove/data/3_MP4/AI_dataset/N02/N02_Ward/diagonal__one_leg_bridge_dynamic.mp4\n",
      "\n",
      "[142/96] 🎬 diagonal__one_leg_bridge_static\n"
     ]
    },
    {
     "name": "stderr",
     "output_type": "stream",
     "text": [
      "diagonal__one_leg_bridge_static: 100% 1276/1276 [00:36<00:00, 34.59frame/s]\n"
     ]
    },
    {
     "name": "stdout",
     "output_type": "stream",
     "text": [
      "✅ Skeleton overlay 완료 → /workspace/nas203/ds_RehabilitationMedicineData/IDs/Kimjihoo/3_project_HCCmove/data/3_MP4/AI_dataset/N02/N02_Ward/diagonal__one_leg_bridge_static.mp4\n",
      "\n",
      "[143/96] 🎬 diagonal__overhead_triceps_extension\n"
     ]
    },
    {
     "name": "stderr",
     "output_type": "stream",
     "text": [
      "diagonal__overhead_triceps_extension: 100% 344/344 [00:10<00:00, 32.32frame/s]\n"
     ]
    },
    {
     "name": "stdout",
     "output_type": "stream",
     "text": [
      "✅ Skeleton overlay 완료 → /workspace/nas203/ds_RehabilitationMedicineData/IDs/Kimjihoo/3_project_HCCmove/data/3_MP4/AI_dataset/N02/N02_Ward/diagonal__overhead_triceps_extension.mp4\n",
      "\n",
      "[144/96] 🎬 diagonal__pec_dec_fly\n"
     ]
    },
    {
     "name": "stderr",
     "output_type": "stream",
     "text": [
      "diagonal__pec_dec_fly: 100% 345/345 [00:10<00:00, 33.96frame/s]\n"
     ]
    },
    {
     "name": "stdout",
     "output_type": "stream",
     "text": [
      "✅ Skeleton overlay 완료 → /workspace/nas203/ds_RehabilitationMedicineData/IDs/Kimjihoo/3_project_HCCmove/data/3_MP4/AI_dataset/N02/N02_Ward/diagonal__pec_dec_fly.mp4\n",
      "\n",
      "[145/96] 🎬 diagonal__q_setting\n"
     ]
    },
    {
     "name": "stderr",
     "output_type": "stream",
     "text": [
      "diagonal__q_setting: 100% 345/345 [00:11<00:00, 29.54frame/s]\n"
     ]
    },
    {
     "name": "stdout",
     "output_type": "stream",
     "text": [
      "✅ Skeleton overlay 완료 → /workspace/nas203/ds_RehabilitationMedicineData/IDs/Kimjihoo/3_project_HCCmove/data/3_MP4/AI_dataset/N02/N02_Ward/diagonal__q_setting.mp4\n",
      "\n",
      "[146/96] 🎬 diagonal__shoulder_abduction\n"
     ]
    },
    {
     "name": "stderr",
     "output_type": "stream",
     "text": [
      "diagonal__shoulder_abduction: 100% 406/406 [00:13<00:00, 29.82frame/s]\n"
     ]
    },
    {
     "name": "stdout",
     "output_type": "stream",
     "text": [
      "✅ Skeleton overlay 완료 → /workspace/nas203/ds_RehabilitationMedicineData/IDs/Kimjihoo/3_project_HCCmove/data/3_MP4/AI_dataset/N02/N02_Ward/diagonal__shoulder_abduction.mp4\n",
      "\n",
      "[147/96] 🎬 diagonal__shoulder_flexion\n"
     ]
    },
    {
     "name": "stderr",
     "output_type": "stream",
     "text": [
      "diagonal__shoulder_flexion: 100% 328/328 [00:10<00:00, 31.29frame/s]\n"
     ]
    },
    {
     "name": "stdout",
     "output_type": "stream",
     "text": [
      "✅ Skeleton overlay 완료 → /workspace/nas203/ds_RehabilitationMedicineData/IDs/Kimjihoo/3_project_HCCmove/data/3_MP4/AI_dataset/N02/N02_Ward/diagonal__shoulder_flexion.mp4\n",
      "\n",
      "[148/96] 🎬 diagonal__slr\n"
     ]
    },
    {
     "name": "stderr",
     "output_type": "stream",
     "text": [
      "diagonal__slr: 100% 350/350 [00:11<00:00, 30.38frame/s]\n"
     ]
    },
    {
     "name": "stdout",
     "output_type": "stream",
     "text": [
      "✅ Skeleton overlay 완료 → /workspace/nas203/ds_RehabilitationMedicineData/IDs/Kimjihoo/3_project_HCCmove/data/3_MP4/AI_dataset/N02/N02_Ward/diagonal__slr.mp4\n",
      "\n",
      "[149/96] 🎬 frontal__ankle_pumping\n"
     ]
    },
    {
     "name": "stderr",
     "output_type": "stream",
     "text": [
      "frontal__ankle_pumping: 100% 468/468 [00:16<00:00, 28.41frame/s]\n"
     ]
    },
    {
     "name": "stdout",
     "output_type": "stream",
     "text": [
      "✅ Skeleton overlay 완료 → /workspace/nas203/ds_RehabilitationMedicineData/IDs/Kimjihoo/3_project_HCCmove/data/3_MP4/AI_dataset/N02/N02_Ward/frontal__ankle_pumping.mp4\n",
      "\n",
      "[150/96] 🎬 frontal__biceps_curl\n"
     ]
    },
    {
     "name": "stderr",
     "output_type": "stream",
     "text": [
      "frontal__biceps_curl: 100% 562/562 [00:17<00:00, 31.98frame/s]\n"
     ]
    },
    {
     "name": "stdout",
     "output_type": "stream",
     "text": [
      "✅ Skeleton overlay 완료 → /workspace/nas203/ds_RehabilitationMedicineData/IDs/Kimjihoo/3_project_HCCmove/data/3_MP4/AI_dataset/N02/N02_Ward/frontal__biceps_curl.mp4\n",
      "\n",
      "[151/96] 🎬 frontal__biceps_curlbilateral\n"
     ]
    },
    {
     "name": "stderr",
     "output_type": "stream",
     "text": [
      "frontal__biceps_curlbilateral: 100% 636/636 [00:21<00:00, 29.07frame/s]\n"
     ]
    },
    {
     "name": "stdout",
     "output_type": "stream",
     "text": [
      "✅ Skeleton overlay 완료 → /workspace/nas203/ds_RehabilitationMedicineData/IDs/Kimjihoo/3_project_HCCmove/data/3_MP4/AI_dataset/N02/N02_Ward/frontal__biceps_curlbilateral.mp4\n",
      "\n",
      "[152/96] 🎬 frontal__bridge_dynamic\n"
     ]
    },
    {
     "name": "stderr",
     "output_type": "stream",
     "text": [
      "frontal__bridge_dynamic: 100% 773/773 [00:24<00:00, 31.36frame/s]\n"
     ]
    },
    {
     "name": "stdout",
     "output_type": "stream",
     "text": [
      "✅ Skeleton overlay 완료 → /workspace/nas203/ds_RehabilitationMedicineData/IDs/Kimjihoo/3_project_HCCmove/data/3_MP4/AI_dataset/N02/N02_Ward/frontal__bridge_dynamic.mp4\n",
      "\n",
      "[153/96] 🎬 frontal__bridge_static\n"
     ]
    },
    {
     "name": "stderr",
     "output_type": "stream",
     "text": [
      "frontal__bridge_static: 100% 1270/1270 [00:42<00:00, 30.20frame/s]\n"
     ]
    },
    {
     "name": "stdout",
     "output_type": "stream",
     "text": [
      "✅ Skeleton overlay 완료 → /workspace/nas203/ds_RehabilitationMedicineData/IDs/Kimjihoo/3_project_HCCmove/data/3_MP4/AI_dataset/N02/N02_Ward/frontal__bridge_static.mp4\n",
      "\n",
      "[154/96] 🎬 frontal__chest_press\n"
     ]
    },
    {
     "name": "stderr",
     "output_type": "stream",
     "text": [
      "frontal__chest_press: 100% 557/557 [00:18<00:00, 29.45frame/s]\n"
     ]
    },
    {
     "name": "stdout",
     "output_type": "stream",
     "text": [
      "✅ Skeleton overlay 완료 → /workspace/nas203/ds_RehabilitationMedicineData/IDs/Kimjihoo/3_project_HCCmove/data/3_MP4/AI_dataset/N02/N02_Ward/frontal__chest_press.mp4\n",
      "\n",
      "[155/96] 🎬 frontal__clamshell_sidelying\n"
     ]
    },
    {
     "name": "stderr",
     "output_type": "stream",
     "text": [
      "frontal__clamshell_sidelying: 100% 655/655 [00:23<00:00, 28.28frame/s]\n"
     ]
    },
    {
     "name": "stdout",
     "output_type": "stream",
     "text": [
      "✅ Skeleton overlay 완료 → /workspace/nas203/ds_RehabilitationMedicineData/IDs/Kimjihoo/3_project_HCCmove/data/3_MP4/AI_dataset/N02/N02_Ward/frontal__clamshell_sidelying.mp4\n",
      "\n",
      "[156/96] 🎬 frontal__clamshell_supine\n"
     ]
    },
    {
     "name": "stderr",
     "output_type": "stream",
     "text": [
      "frontal__clamshell_supine: 100% 556/556 [00:19<00:00, 28.22frame/s]\n"
     ]
    },
    {
     "name": "stdout",
     "output_type": "stream",
     "text": [
      "✅ Skeleton overlay 완료 → /workspace/nas203/ds_RehabilitationMedicineData/IDs/Kimjihoo/3_project_HCCmove/data/3_MP4/AI_dataset/N02/N02_Ward/frontal__clamshell_supine.mp4\n",
      "\n",
      "[157/96] 🎬 frontal__hip_abduction\n"
     ]
    },
    {
     "name": "stderr",
     "output_type": "stream",
     "text": [
      "frontal__hip_abduction: 100% 650/650 [00:23<00:00, 27.60frame/s]\n"
     ]
    },
    {
     "name": "stdout",
     "output_type": "stream",
     "text": [
      "✅ Skeleton overlay 완료 → /workspace/nas203/ds_RehabilitationMedicineData/IDs/Kimjihoo/3_project_HCCmove/data/3_MP4/AI_dataset/N02/N02_Ward/frontal__hip_abduction.mp4\n",
      "\n",
      "[158/96] 🎬 frontal__hip_extension\n"
     ]
    },
    {
     "name": "stderr",
     "output_type": "stream",
     "text": [
      "frontal__hip_extension: 100% 613/613 [00:20<00:00, 29.88frame/s]\n"
     ]
    },
    {
     "name": "stdout",
     "output_type": "stream",
     "text": [
      "✅ Skeleton overlay 완료 → /workspace/nas203/ds_RehabilitationMedicineData/IDs/Kimjihoo/3_project_HCCmove/data/3_MP4/AI_dataset/N02/N02_Ward/frontal__hip_extension.mp4\n",
      "\n",
      "[159/96] 🎬 frontal__hip_knee_flexion\n"
     ]
    },
    {
     "name": "stderr",
     "output_type": "stream",
     "text": [
      "frontal__hip_knee_flexion: 100% 633/633 [00:20<00:00, 30.38frame/s]\n"
     ]
    },
    {
     "name": "stdout",
     "output_type": "stream",
     "text": [
      "✅ Skeleton overlay 완료 → /workspace/nas203/ds_RehabilitationMedicineData/IDs/Kimjihoo/3_project_HCCmove/data/3_MP4/AI_dataset/N02/N02_Ward/frontal__hip_knee_flexion.mp4\n",
      "\n",
      "[160/96] 🎬 frontal__knee_flexion\n"
     ]
    },
    {
     "name": "stderr",
     "output_type": "stream",
     "text": [
      "frontal__knee_flexion: 100% 1190/1190 [00:40<00:00, 29.45frame/s]\n"
     ]
    },
    {
     "name": "stdout",
     "output_type": "stream",
     "text": [
      "✅ Skeleton overlay 완료 → /workspace/nas203/ds_RehabilitationMedicineData/IDs/Kimjihoo/3_project_HCCmove/data/3_MP4/AI_dataset/N02/N02_Ward/frontal__knee_flexion.mp4\n",
      "\n",
      "[161/96] 🎬 frontal__leg_cycle_exercise\n"
     ]
    },
    {
     "name": "stderr",
     "output_type": "stream",
     "text": [
      "frontal__leg_cycle_exercise: 100% 484/484 [00:17<00:00, 28.35frame/s]\n"
     ]
    },
    {
     "name": "stdout",
     "output_type": "stream",
     "text": [
      "✅ Skeleton overlay 완료 → /workspace/nas203/ds_RehabilitationMedicineData/IDs/Kimjihoo/3_project_HCCmove/data/3_MP4/AI_dataset/N02/N02_Ward/frontal__leg_cycle_exercise.mp4\n",
      "\n",
      "[162/96] 🎬 frontal__lumbar_rotation\n"
     ]
    },
    {
     "name": "stderr",
     "output_type": "stream",
     "text": [
      "frontal__lumbar_rotation: 100% 654/654 [00:20<00:00, 32.11frame/s]\n"
     ]
    },
    {
     "name": "stdout",
     "output_type": "stream",
     "text": [
      "✅ Skeleton overlay 완료 → /workspace/nas203/ds_RehabilitationMedicineData/IDs/Kimjihoo/3_project_HCCmove/data/3_MP4/AI_dataset/N02/N02_Ward/frontal__lumbar_rotation.mp4\n",
      "\n",
      "[163/96] 🎬 frontal__one_leg_bridge_dynamic\n"
     ]
    },
    {
     "name": "stderr",
     "output_type": "stream",
     "text": [
      "frontal__one_leg_bridge_dynamic: 100% 1055/1055 [00:31<00:00, 33.90frame/s]\n"
     ]
    },
    {
     "name": "stdout",
     "output_type": "stream",
     "text": [
      "✅ Skeleton overlay 완료 → /workspace/nas203/ds_RehabilitationMedicineData/IDs/Kimjihoo/3_project_HCCmove/data/3_MP4/AI_dataset/N02/N02_Ward/frontal__one_leg_bridge_dynamic.mp4\n",
      "\n",
      "[164/96] 🎬 frontal__one_leg_bridge_static\n"
     ]
    },
    {
     "name": "stderr",
     "output_type": "stream",
     "text": [
      "frontal__one_leg_bridge_static: 100% 2541/2541 [01:14<00:00, 34.24frame/s]\n"
     ]
    },
    {
     "name": "stdout",
     "output_type": "stream",
     "text": [
      "✅ Skeleton overlay 완료 → /workspace/nas203/ds_RehabilitationMedicineData/IDs/Kimjihoo/3_project_HCCmove/data/3_MP4/AI_dataset/N02/N02_Ward/frontal__one_leg_bridge_static.mp4\n",
      "\n",
      "[165/96] 🎬 frontal__overhead_triceps_extension\n"
     ]
    },
    {
     "name": "stderr",
     "output_type": "stream",
     "text": [
      "frontal__overhead_triceps_extension: 100% 659/659 [00:21<00:00, 30.14frame/s]\n"
     ]
    },
    {
     "name": "stdout",
     "output_type": "stream",
     "text": [
      "✅ Skeleton overlay 완료 → /workspace/nas203/ds_RehabilitationMedicineData/IDs/Kimjihoo/3_project_HCCmove/data/3_MP4/AI_dataset/N02/N02_Ward/frontal__overhead_triceps_extension.mp4\n",
      "\n",
      "[166/96] 🎬 frontal__pec_dec_fly\n"
     ]
    },
    {
     "name": "stderr",
     "output_type": "stream",
     "text": [
      "frontal__pec_dec_fly: 100% 573/573 [00:19<00:00, 29.10frame/s]\n"
     ]
    },
    {
     "name": "stdout",
     "output_type": "stream",
     "text": [
      "✅ Skeleton overlay 완료 → /workspace/nas203/ds_RehabilitationMedicineData/IDs/Kimjihoo/3_project_HCCmove/data/3_MP4/AI_dataset/N02/N02_Ward/frontal__pec_dec_fly.mp4\n",
      "\n",
      "[167/96] 🎬 frontal__q_setting\n"
     ]
    },
    {
     "name": "stderr",
     "output_type": "stream",
     "text": [
      "frontal__q_setting: 100% 581/581 [00:19<00:00, 29.90frame/s]\n"
     ]
    },
    {
     "name": "stdout",
     "output_type": "stream",
     "text": [
      "✅ Skeleton overlay 완료 → /workspace/nas203/ds_RehabilitationMedicineData/IDs/Kimjihoo/3_project_HCCmove/data/3_MP4/AI_dataset/N02/N02_Ward/frontal__q_setting.mp4\n",
      "\n",
      "[168/96] 🎬 frontal__shoulder_abduction\n"
     ]
    },
    {
     "name": "stderr",
     "output_type": "stream",
     "text": [
      "frontal__shoulder_abduction: 100% 776/776 [00:28<00:00, 27.67frame/s]\n"
     ]
    },
    {
     "name": "stdout",
     "output_type": "stream",
     "text": [
      "✅ Skeleton overlay 완료 → /workspace/nas203/ds_RehabilitationMedicineData/IDs/Kimjihoo/3_project_HCCmove/data/3_MP4/AI_dataset/N02/N02_Ward/frontal__shoulder_abduction.mp4\n",
      "\n",
      "[169/96] 🎬 frontal__shoulder_flexion\n"
     ]
    },
    {
     "name": "stderr",
     "output_type": "stream",
     "text": [
      "frontal__shoulder_flexion: 100% 696/696 [00:25<00:00, 27.63frame/s]\n"
     ]
    },
    {
     "name": "stdout",
     "output_type": "stream",
     "text": [
      "✅ Skeleton overlay 완료 → /workspace/nas203/ds_RehabilitationMedicineData/IDs/Kimjihoo/3_project_HCCmove/data/3_MP4/AI_dataset/N02/N02_Ward/frontal__shoulder_flexion.mp4\n",
      "\n",
      "[170/96] 🎬 frontal__slr\n"
     ]
    },
    {
     "name": "stderr",
     "output_type": "stream",
     "text": [
      "frontal__slr: 100% 614/614 [00:20<00:00, 30.63frame/s]\n"
     ]
    },
    {
     "name": "stdout",
     "output_type": "stream",
     "text": [
      "✅ Skeleton overlay 완료 → /workspace/nas203/ds_RehabilitationMedicineData/IDs/Kimjihoo/3_project_HCCmove/data/3_MP4/AI_dataset/N02/N02_Ward/frontal__slr.mp4\n",
      "\n",
      "[171/96] 🎬 lateral__ankle_pumping\n"
     ]
    },
    {
     "name": "stderr",
     "output_type": "stream",
     "text": [
      "lateral__ankle_pumping: 100% 339/339 [00:10<00:00, 31.54frame/s]\n"
     ]
    },
    {
     "name": "stdout",
     "output_type": "stream",
     "text": [
      "✅ Skeleton overlay 완료 → /workspace/nas203/ds_RehabilitationMedicineData/IDs/Kimjihoo/3_project_HCCmove/data/3_MP4/AI_dataset/N02/N02_Ward/lateral__ankle_pumping.mp4\n",
      "\n",
      "[172/96] 🎬 lateral__biceps_curl\n"
     ]
    },
    {
     "name": "stderr",
     "output_type": "stream",
     "text": [
      "lateral__biceps_curl: 100% 338/338 [00:10<00:00, 31.74frame/s]\n"
     ]
    },
    {
     "name": "stdout",
     "output_type": "stream",
     "text": [
      "✅ Skeleton overlay 완료 → /workspace/nas203/ds_RehabilitationMedicineData/IDs/Kimjihoo/3_project_HCCmove/data/3_MP4/AI_dataset/N02/N02_Ward/lateral__biceps_curl.mp4\n",
      "\n",
      "[173/96] 🎬 lateral__biceps_curlbilateral\n"
     ]
    },
    {
     "name": "stderr",
     "output_type": "stream",
     "text": [
      "lateral__biceps_curlbilateral: 100% 369/369 [00:12<00:00, 29.89frame/s]\n"
     ]
    },
    {
     "name": "stdout",
     "output_type": "stream",
     "text": [
      "✅ Skeleton overlay 완료 → /workspace/nas203/ds_RehabilitationMedicineData/IDs/Kimjihoo/3_project_HCCmove/data/3_MP4/AI_dataset/N02/N02_Ward/lateral__biceps_curlbilateral.mp4\n",
      "\n",
      "[174/96] 🎬 lateral__bridge_dynamic\n"
     ]
    },
    {
     "name": "stderr",
     "output_type": "stream",
     "text": [
      "lateral__bridge_dynamic: 100% 404/404 [00:14<00:00, 28.12frame/s]\n"
     ]
    },
    {
     "name": "stdout",
     "output_type": "stream",
     "text": [
      "✅ Skeleton overlay 완료 → /workspace/nas203/ds_RehabilitationMedicineData/IDs/Kimjihoo/3_project_HCCmove/data/3_MP4/AI_dataset/N02/N02_Ward/lateral__bridge_dynamic.mp4\n",
      "\n",
      "[175/96] 🎬 lateral__bridge_static\n"
     ]
    },
    {
     "name": "stderr",
     "output_type": "stream",
     "text": [
      "lateral__bridge_static: 100% 657/657 [00:20<00:00, 32.30frame/s]\n"
     ]
    },
    {
     "name": "stdout",
     "output_type": "stream",
     "text": [
      "✅ Skeleton overlay 완료 → /workspace/nas203/ds_RehabilitationMedicineData/IDs/Kimjihoo/3_project_HCCmove/data/3_MP4/AI_dataset/N02/N02_Ward/lateral__bridge_static.mp4\n",
      "\n",
      "[176/96] 🎬 lateral__chest_press\n"
     ]
    },
    {
     "name": "stderr",
     "output_type": "stream",
     "text": [
      "lateral__chest_press: 100% 339/339 [00:10<00:00, 31.04frame/s]\n"
     ]
    },
    {
     "name": "stdout",
     "output_type": "stream",
     "text": [
      "✅ Skeleton overlay 완료 → /workspace/nas203/ds_RehabilitationMedicineData/IDs/Kimjihoo/3_project_HCCmove/data/3_MP4/AI_dataset/N02/N02_Ward/lateral__chest_press.mp4\n",
      "\n",
      "[177/96] 🎬 lateral__clamshell_sidelying\n"
     ]
    },
    {
     "name": "stderr",
     "output_type": "stream",
     "text": [
      "lateral__clamshell_sidelying: 100% 355/355 [00:11<00:00, 30.33frame/s]\n"
     ]
    },
    {
     "name": "stdout",
     "output_type": "stream",
     "text": [
      "✅ Skeleton overlay 완료 → /workspace/nas203/ds_RehabilitationMedicineData/IDs/Kimjihoo/3_project_HCCmove/data/3_MP4/AI_dataset/N02/N02_Ward/lateral__clamshell_sidelying.mp4\n",
      "\n",
      "[178/96] 🎬 lateral__clamshell_supine\n"
     ]
    },
    {
     "name": "stderr",
     "output_type": "stream",
     "text": [
      "lateral__clamshell_supine: 100% 374/374 [00:12<00:00, 29.40frame/s]\n"
     ]
    },
    {
     "name": "stdout",
     "output_type": "stream",
     "text": [
      "✅ Skeleton overlay 완료 → /workspace/nas203/ds_RehabilitationMedicineData/IDs/Kimjihoo/3_project_HCCmove/data/3_MP4/AI_dataset/N02/N02_Ward/lateral__clamshell_supine.mp4\n",
      "\n",
      "[179/96] 🎬 lateral__hip_abduction\n"
     ]
    },
    {
     "name": "stderr",
     "output_type": "stream",
     "text": [
      "lateral__hip_abduction: 100% 360/360 [00:10<00:00, 35.70frame/s]\n"
     ]
    },
    {
     "name": "stdout",
     "output_type": "stream",
     "text": [
      "✅ Skeleton overlay 완료 → /workspace/nas203/ds_RehabilitationMedicineData/IDs/Kimjihoo/3_project_HCCmove/data/3_MP4/AI_dataset/N02/N02_Ward/lateral__hip_abduction.mp4\n",
      "\n",
      "[180/96] 🎬 lateral__hip_extension\n"
     ]
    },
    {
     "name": "stderr",
     "output_type": "stream",
     "text": [
      "lateral__hip_extension: 100% 341/341 [00:11<00:00, 29.02frame/s]\n"
     ]
    },
    {
     "name": "stdout",
     "output_type": "stream",
     "text": [
      "✅ Skeleton overlay 완료 → /workspace/nas203/ds_RehabilitationMedicineData/IDs/Kimjihoo/3_project_HCCmove/data/3_MP4/AI_dataset/N02/N02_Ward/lateral__hip_extension.mp4\n",
      "\n",
      "[181/96] 🎬 lateral__hip_knee_flexion\n"
     ]
    },
    {
     "name": "stderr",
     "output_type": "stream",
     "text": [
      "lateral__hip_knee_flexion: 100% 339/339 [00:11<00:00, 30.29frame/s]\n"
     ]
    },
    {
     "name": "stdout",
     "output_type": "stream",
     "text": [
      "✅ Skeleton overlay 완료 → /workspace/nas203/ds_RehabilitationMedicineData/IDs/Kimjihoo/3_project_HCCmove/data/3_MP4/AI_dataset/N02/N02_Ward/lateral__hip_knee_flexion.mp4\n",
      "\n",
      "[182/96] 🎬 lateral__knee_flexion\n"
     ]
    },
    {
     "name": "stderr",
     "output_type": "stream",
     "text": [
      "lateral__knee_flexion: 100% 334/334 [00:09<00:00, 35.07frame/s]\n"
     ]
    },
    {
     "name": "stdout",
     "output_type": "stream",
     "text": [
      "✅ Skeleton overlay 완료 → /workspace/nas203/ds_RehabilitationMedicineData/IDs/Kimjihoo/3_project_HCCmove/data/3_MP4/AI_dataset/N02/N02_Ward/lateral__knee_flexion.mp4\n",
      "\n",
      "[183/96] 🎬 lateral__leg_cycle_exercise\n"
     ]
    },
    {
     "name": "stderr",
     "output_type": "stream",
     "text": [
      "lateral__leg_cycle_exercise: 100% 327/327 [00:10<00:00, 29.88frame/s]\n"
     ]
    },
    {
     "name": "stdout",
     "output_type": "stream",
     "text": [
      "✅ Skeleton overlay 완료 → /workspace/nas203/ds_RehabilitationMedicineData/IDs/Kimjihoo/3_project_HCCmove/data/3_MP4/AI_dataset/N02/N02_Ward/lateral__leg_cycle_exercise.mp4\n",
      "\n",
      "[184/96] 🎬 lateral__lumbar_rotation\n"
     ]
    },
    {
     "name": "stderr",
     "output_type": "stream",
     "text": [
      "lateral__lumbar_rotation: 100% 342/342 [00:11<00:00, 28.69frame/s]\n"
     ]
    },
    {
     "name": "stdout",
     "output_type": "stream",
     "text": [
      "✅ Skeleton overlay 완료 → /workspace/nas203/ds_RehabilitationMedicineData/IDs/Kimjihoo/3_project_HCCmove/data/3_MP4/AI_dataset/N02/N02_Ward/lateral__lumbar_rotation.mp4\n",
      "\n",
      "[185/96] 🎬 lateral__one_leg_bridge_dynamic\n"
     ]
    },
    {
     "name": "stderr",
     "output_type": "stream",
     "text": [
      "lateral__one_leg_bridge_dynamic: 100% 560/560 [00:16<00:00, 33.56frame/s]\n"
     ]
    },
    {
     "name": "stdout",
     "output_type": "stream",
     "text": [
      "✅ Skeleton overlay 완료 → /workspace/nas203/ds_RehabilitationMedicineData/IDs/Kimjihoo/3_project_HCCmove/data/3_MP4/AI_dataset/N02/N02_Ward/lateral__one_leg_bridge_dynamic.mp4\n",
      "\n",
      "[186/96] 🎬 lateral__one_leg_bridge_static\n"
     ]
    },
    {
     "name": "stderr",
     "output_type": "stream",
     "text": [
      "lateral__one_leg_bridge_static: 100% 1290/1290 [00:37<00:00, 34.36frame/s]\n"
     ]
    },
    {
     "name": "stdout",
     "output_type": "stream",
     "text": [
      "✅ Skeleton overlay 완료 → /workspace/nas203/ds_RehabilitationMedicineData/IDs/Kimjihoo/3_project_HCCmove/data/3_MP4/AI_dataset/N02/N02_Ward/lateral__one_leg_bridge_static.mp4\n",
      "\n",
      "[187/96] 🎬 lateral__overhead_triceps_extension\n"
     ]
    },
    {
     "name": "stderr",
     "output_type": "stream",
     "text": [
      "lateral__overhead_triceps_extension: 100% 347/347 [00:10<00:00, 32.42frame/s]\n"
     ]
    },
    {
     "name": "stdout",
     "output_type": "stream",
     "text": [
      "✅ Skeleton overlay 완료 → /workspace/nas203/ds_RehabilitationMedicineData/IDs/Kimjihoo/3_project_HCCmove/data/3_MP4/AI_dataset/N02/N02_Ward/lateral__overhead_triceps_extension.mp4\n",
      "\n",
      "[188/96] 🎬 lateral__pec_dec_fly\n"
     ]
    },
    {
     "name": "stderr",
     "output_type": "stream",
     "text": [
      "lateral__pec_dec_fly: 100% 348/348 [00:11<00:00, 30.33frame/s]\n"
     ]
    },
    {
     "name": "stdout",
     "output_type": "stream",
     "text": [
      "✅ Skeleton overlay 완료 → /workspace/nas203/ds_RehabilitationMedicineData/IDs/Kimjihoo/3_project_HCCmove/data/3_MP4/AI_dataset/N02/N02_Ward/lateral__pec_dec_fly.mp4\n",
      "\n",
      "[189/96] 🎬 lateral__q_setting\n"
     ]
    },
    {
     "name": "stderr",
     "output_type": "stream",
     "text": [
      "lateral__q_setting: 100% 329/329 [00:11<00:00, 27.77frame/s]\n"
     ]
    },
    {
     "name": "stdout",
     "output_type": "stream",
     "text": [
      "✅ Skeleton overlay 완료 → /workspace/nas203/ds_RehabilitationMedicineData/IDs/Kimjihoo/3_project_HCCmove/data/3_MP4/AI_dataset/N02/N02_Ward/lateral__q_setting.mp4\n",
      "\n",
      "[190/96] 🎬 lateral__shoulder_abduction\n"
     ]
    },
    {
     "name": "stderr",
     "output_type": "stream",
     "text": [
      "lateral__shoulder_abduction: 100% 413/413 [00:12<00:00, 33.62frame/s]\n"
     ]
    },
    {
     "name": "stdout",
     "output_type": "stream",
     "text": [
      "✅ Skeleton overlay 완료 → /workspace/nas203/ds_RehabilitationMedicineData/IDs/Kimjihoo/3_project_HCCmove/data/3_MP4/AI_dataset/N02/N02_Ward/lateral__shoulder_abduction.mp4\n",
      "\n",
      "[191/96] 🎬 lateral__shoulder_flexion\n"
     ]
    },
    {
     "name": "stderr",
     "output_type": "stream",
     "text": [
      "lateral__shoulder_flexion: 100% 360/360 [00:11<00:00, 32.29frame/s]\n"
     ]
    },
    {
     "name": "stdout",
     "output_type": "stream",
     "text": [
      "✅ Skeleton overlay 완료 → /workspace/nas203/ds_RehabilitationMedicineData/IDs/Kimjihoo/3_project_HCCmove/data/3_MP4/AI_dataset/N02/N02_Ward/lateral__shoulder_flexion.mp4\n",
      "\n",
      "[192/96] 🎬 lateral__slr\n"
     ]
    },
    {
     "name": "stderr",
     "output_type": "stream",
     "text": [
      "lateral__slr: 100% 336/336 [00:12<00:00, 27.82frame/s]\n"
     ]
    },
    {
     "name": "stdout",
     "output_type": "stream",
     "text": [
      "✅ Skeleton overlay 완료 → /workspace/nas203/ds_RehabilitationMedicineData/IDs/Kimjihoo/3_project_HCCmove/data/3_MP4/AI_dataset/N02/N02_Ward/lateral__slr.mp4\n",
      "\n",
      "✅ 전체 Skeleton Overlay 렌더링 완료!\n"
     ]
    }
   ],
   "source": [
    "from functions.render_skeleton_video import render_skeleton_video\n",
    "import pandas as pd\n",
    "from pathlib import Path\n",
    "\n",
    "# ------------------------------------------------------------\n",
    "# 설정\n",
    "# ------------------------------------------------------------\n",
    "targets = (\"AI_dataset/N02\",)\n",
    "csv_path = Path(\"/workspace/nas203/ds_RehabilitationMedicineData/IDs/Kimjihoo/ASAN_01_Repeatition_Counter/data/metadata_backup.csv\")\n",
    "\n",
    "# ------------------------------------------------------------\n",
    "# metadata 로드 및 필터링\n",
    "# ------------------------------------------------------------\n",
    "df = pd.read_csv(csv_path)\n",
    "mask = df[\"frame_path\"].str.contains(\"|\".join(targets), case=False, na=False)\n",
    "df_target = df[mask]\n",
    "\n",
    "print(f\"[INFO] 대상 데이터 {len(df_target)}개 선택됨 (필터: {targets})\")\n",
    "\n",
    "# ------------------------------------------------------------\n",
    "# Skeleton 렌더링 실행\n",
    "# ------------------------------------------------------------\n",
    "for i, row in df_target.iterrows():\n",
    "    frame_dir = Path(row[\"frame_path\"])\n",
    "    json_dir = Path(row[\"keypoints_path\"])\n",
    "\n",
    "    # ✅ CSV에 이미 있는 mp4_path 사용\n",
    "    out_mp4 = Path(row[\"mp4_path\"])\n",
    "    out_mp4.parent.mkdir(parents=True, exist_ok=True)\n",
    "\n",
    "    if not frame_dir.exists() or not json_dir.exists():\n",
    "        print(f\"[WARN] 경로 없음 → frame: {frame_dir}, json: {json_dir}\")\n",
    "        continue\n",
    "\n",
    "    print(f\"\\n[{i+1}/{len(df_target)}] 🎬 {frame_dir.name}\")\n",
    "    try:\n",
    "        render_skeleton_video(\n",
    "            frame_dir=str(frame_dir),\n",
    "            json_dir=str(json_dir),\n",
    "            out_mp4=str(out_mp4),\n",
    "            fps=30,\n",
    "            model_type=\"coco17\",       # 12 keypoints skeleton\n",
    "            flip_horizontal=False\n",
    "        )\n",
    "    except Exception as e:\n",
    "        print(f\"[ERROR] render 실패: {frame_dir.name} ({e})\")\n",
    "\n",
    "print(\"\\n✅ 전체 Skeleton Overlay 렌더링 완료!\")\n"
   ]
  }
 ],
 "metadata": {
  "kernelspec": {
   "display_name": "Python (sapiens)",
   "language": "python",
   "name": "sapiens"
  },
  "language_info": {
   "codemirror_mode": {
    "name": "ipython",
    "version": 3
   },
   "file_extension": ".py",
   "mimetype": "text/x-python",
   "name": "python",
   "nbconvert_exporter": "python",
   "pygments_lexer": "ipython3",
   "version": "3.10.13"
  }
 },
 "nbformat": 4,
 "nbformat_minor": 5
}
